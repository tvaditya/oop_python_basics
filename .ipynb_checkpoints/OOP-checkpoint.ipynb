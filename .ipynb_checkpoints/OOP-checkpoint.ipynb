{
 "cells": [
  {
   "cell_type": "markdown",
   "metadata": {},
   "source": [
    "##  The basics of classes and methods"
   ]
  },
  {
   "cell_type": "code",
   "execution_count": 5,
   "metadata": {},
   "outputs": [
    {
     "name": "stdout",
     "output_type": "stream",
     "text": [
      "Models: Kenwood= 12.12, Hamilton= 12.99\n"
     ]
    }
   ],
   "source": [
    "class Kettle(object):\n",
    "    \n",
    "    power_source = 'electricity'\n",
    "    def __init__(self, make, price):\n",
    "        self.make = make\n",
    "        self.price = price\n",
    "        self.on = False\n",
    "        \n",
    "    def switch_on(self):\n",
    "        self.on = True\n",
    "        \n",
    "        \n",
    "kenwood = Kettle(\"Kenwood\", 8.99)\n",
    "hamilton = Kettle(\"Hamilton\", 12.99)\n",
    "kenwood.price = 12.12\n",
    "\n",
    "print(\"Models: {}= {}, {}= {}\".format(kenwood.make, kenwood.price, hamilton.make, hamilton.price))"
   ]
  },
  {
   "cell_type": "code",
   "execution_count": 2,
   "metadata": {},
   "outputs": [
    {
     "name": "stdout",
     "output_type": "stream",
     "text": [
      "Models: Kenwood = 12.12, Hamilton = 12.99\n"
     ]
    }
   ],
   "source": [
    "print(\"Models: {0.make} = {0.price}, {1.make} = {1.price}\".format(kenwood, hamilton))"
   ]
  },
  {
   "cell_type": "code",
   "execution_count": 3,
   "metadata": {},
   "outputs": [
    {
     "name": "stdout",
     "output_type": "stream",
     "text": [
      "False\n",
      "True\n"
     ]
    }
   ],
   "source": [
    "print(hamilton.on)\n",
    "hamilton.switch_on()\n",
    "print(hamilton.on)"
   ]
  },
  {
   "cell_type": "code",
   "execution_count": 4,
   "metadata": {},
   "outputs": [
    {
     "name": "stdout",
     "output_type": "stream",
     "text": [
      "True\n"
     ]
    }
   ],
   "source": [
    "Kettle.switch_on(kenwood)\n",
    "print(kenwood.on)"
   ]
  },
  {
   "cell_type": "markdown",
   "metadata": {},
   "source": [
    "### Class attributes"
   ]
  },
  {
   "cell_type": "code",
   "execution_count": 6,
   "metadata": {},
   "outputs": [
    {
     "name": "stdout",
     "output_type": "stream",
     "text": [
      "electricity\n",
      "electricity\n"
     ]
    }
   ],
   "source": [
    "print(kenwood.power_source)\n",
    "print(Kettle.power_source)"
   ]
  },
  {
   "cell_type": "code",
   "execution_count": 7,
   "metadata": {},
   "outputs": [
    {
     "name": "stdout",
     "output_type": "stream",
     "text": [
      "{'make': 'Kenwood', 'price': 12.12, 'on': False}\n",
      "{'make': 'Hamilton', 'price': 12.99, 'on': False}\n",
      "{'__module__': '__main__', 'power_source': 'electricity', '__init__': <function Kettle.__init__ at 0x000001F758D38048>, 'switch_on': <function Kettle.switch_on at 0x000001F758D382F0>, '__dict__': <attribute '__dict__' of 'Kettle' objects>, '__weakref__': <attribute '__weakref__' of 'Kettle' objects>, '__doc__': None}\n"
     ]
    }
   ],
   "source": [
    "print(kenwood.__dict__)\n",
    "print(hamilton.__dict__)\n",
    "print(Kettle.__dict__)"
   ]
  },
  {
   "cell_type": "code",
   "execution_count": 9,
   "metadata": {},
   "outputs": [
    {
     "name": "stdout",
     "output_type": "stream",
     "text": [
      "atomic\n",
      "electricity\n",
      "electricity\n"
     ]
    }
   ],
   "source": [
    "#Switch just kenwood to atomic power\n",
    "kenwood.power_source = \"atomic\"\n",
    "print(kenwood.power_source)\n",
    "print(hamilton.power_source)\n",
    "print(Kettle.power_source)"
   ]
  },
  {
   "cell_type": "code",
   "execution_count": 10,
   "metadata": {},
   "outputs": [
    {
     "name": "stdout",
     "output_type": "stream",
     "text": [
      "atomic\n",
      "atomic\n",
      "atomic\n"
     ]
    }
   ],
   "source": [
    "#Switch all kettle to atomic power\n",
    "Kettle.power_source = \"atomic\"\n",
    "print(kenwood.power_source)\n",
    "print(hamilton.power_source)\n",
    "print(Kettle.power_source)"
   ]
  },
  {
   "cell_type": "code",
   "execution_count": null,
   "metadata": {},
   "outputs": [],
   "source": []
  }
 ],
 "metadata": {
  "kernelspec": {
   "display_name": "Python 3",
   "language": "python",
   "name": "python3"
  },
  "language_info": {
   "codemirror_mode": {
    "name": "ipython",
    "version": 3
   },
   "file_extension": ".py",
   "mimetype": "text/x-python",
   "name": "python",
   "nbconvert_exporter": "python",
   "pygments_lexer": "ipython3",
   "version": "3.6.2"
  }
 },
 "nbformat": 4,
 "nbformat_minor": 2
}
