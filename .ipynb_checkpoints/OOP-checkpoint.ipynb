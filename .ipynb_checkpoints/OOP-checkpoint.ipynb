{
 "cells": [
  {
   "cell_type": "markdown",
   "metadata": {},
   "source": [
    "##  The basics of classes and methods"
   ]
  },
  {
   "cell_type": "code",
   "execution_count": 20,
   "metadata": {},
   "outputs": [
    {
     "name": "stdout",
     "output_type": "stream",
     "text": [
      "Requirement already satisfied: pytz in c:\\users\\aditya\\miniconda3\\envs\\py36\\lib\\site-packages (2018.5)\n"
     ]
    }
   ],
   "source": [
    "!pip install pytz"
   ]
  },
  {
   "cell_type": "code",
   "execution_count": 21,
   "metadata": {},
   "outputs": [],
   "source": [
    "import datetime\n",
    "import pytz"
   ]
  },
  {
   "cell_type": "code",
   "execution_count": 5,
   "metadata": {},
   "outputs": [
    {
     "name": "stdout",
     "output_type": "stream",
     "text": [
      "Models: Kenwood= 12.12, Hamilton= 12.99\n"
     ]
    }
   ],
   "source": [
    "class Kettle(object):\n",
    "    \n",
    "    power_source = 'electricity'\n",
    "    def __init__(self, make, price):\n",
    "        self.make = make\n",
    "        self.price = price\n",
    "        self.on = False\n",
    "        \n",
    "    def switch_on(self):\n",
    "        self.on = True\n",
    "        \n",
    "        \n",
    "kenwood = Kettle(\"Kenwood\", 8.99)\n",
    "hamilton = Kettle(\"Hamilton\", 12.99)\n",
    "kenwood.price = 12.12\n",
    "\n",
    "print(\"Models: {}= {}, {}= {}\".format(kenwood.make, kenwood.price, hamilton.make, hamilton.price))"
   ]
  },
  {
   "cell_type": "code",
   "execution_count": 2,
   "metadata": {},
   "outputs": [
    {
     "name": "stdout",
     "output_type": "stream",
     "text": [
      "Models: Kenwood = 12.12, Hamilton = 12.99\n"
     ]
    }
   ],
   "source": [
    "print(\"Models: {0.make} = {0.price}, {1.make} = {1.price}\".format(kenwood, hamilton))"
   ]
  },
  {
   "cell_type": "code",
   "execution_count": 3,
   "metadata": {},
   "outputs": [
    {
     "name": "stdout",
     "output_type": "stream",
     "text": [
      "False\n",
      "True\n"
     ]
    }
   ],
   "source": [
    "print(hamilton.on)\n",
    "hamilton.switch_on()\n",
    "print(hamilton.on)"
   ]
  },
  {
   "cell_type": "code",
   "execution_count": 4,
   "metadata": {},
   "outputs": [
    {
     "name": "stdout",
     "output_type": "stream",
     "text": [
      "True\n"
     ]
    }
   ],
   "source": [
    "Kettle.switch_on(kenwood)\n",
    "print(kenwood.on)"
   ]
  },
  {
   "cell_type": "markdown",
   "metadata": {},
   "source": [
    "### Class attributes"
   ]
  },
  {
   "cell_type": "code",
   "execution_count": 6,
   "metadata": {},
   "outputs": [
    {
     "name": "stdout",
     "output_type": "stream",
     "text": [
      "electricity\n",
      "electricity\n"
     ]
    }
   ],
   "source": [
    "print(kenwood.power_source)\n",
    "print(Kettle.power_source)"
   ]
  },
  {
   "cell_type": "code",
   "execution_count": 7,
   "metadata": {},
   "outputs": [
    {
     "name": "stdout",
     "output_type": "stream",
     "text": [
      "{'make': 'Kenwood', 'price': 12.12, 'on': False}\n",
      "{'make': 'Hamilton', 'price': 12.99, 'on': False}\n",
      "{'__module__': '__main__', 'power_source': 'electricity', '__init__': <function Kettle.__init__ at 0x000001F758D38048>, 'switch_on': <function Kettle.switch_on at 0x000001F758D382F0>, '__dict__': <attribute '__dict__' of 'Kettle' objects>, '__weakref__': <attribute '__weakref__' of 'Kettle' objects>, '__doc__': None}\n"
     ]
    }
   ],
   "source": [
    "print(kenwood.__dict__)\n",
    "print(hamilton.__dict__)\n",
    "print(Kettle.__dict__)"
   ]
  },
  {
   "cell_type": "code",
   "execution_count": 9,
   "metadata": {},
   "outputs": [
    {
     "name": "stdout",
     "output_type": "stream",
     "text": [
      "atomic\n",
      "electricity\n",
      "electricity\n"
     ]
    }
   ],
   "source": [
    "#Switch just kenwood to atomic power\n",
    "kenwood.power_source = \"atomic\"\n",
    "print(kenwood.power_source)\n",
    "print(hamilton.power_source)\n",
    "print(Kettle.power_source)"
   ]
  },
  {
   "cell_type": "code",
   "execution_count": 10,
   "metadata": {},
   "outputs": [
    {
     "name": "stdout",
     "output_type": "stream",
     "text": [
      "atomic\n",
      "atomic\n",
      "atomic\n"
     ]
    }
   ],
   "source": [
    "#Switch all kettle to atomic power\n",
    "Kettle.power_source = \"atomic\"\n",
    "print(kenwood.power_source)\n",
    "print(hamilton.power_source)\n",
    "print(Kettle.power_source)"
   ]
  },
  {
   "cell_type": "markdown",
   "metadata": {},
   "source": [
    "### Methods"
   ]
  },
  {
   "cell_type": "code",
   "execution_count": 31,
   "metadata": {},
   "outputs": [],
   "source": [
    "class Account:\n",
    "    \"\"\" Classical bank account \"\"\"\n",
    "    #static methods\n",
    "    \n",
    "    @staticmethod\n",
    "    def _current_time():\n",
    "        utc_time = datetime.datetime.utcnow()\n",
    "        return pytz.utc.localize(utc_time)\n",
    "        #we don't need to use the self here this is a static method - annotation added\n",
    "        \n",
    "    def __init__(self, name, balance):\n",
    "        self.name = name\n",
    "        self.balance = balance\n",
    "        self.transaction_list = []\n",
    "        print(\"Account created for {}\".format(self.name))\n",
    "        \n",
    "    def deposit(self, amount):\n",
    "        if amount > 0:\n",
    "            self.balance += amount\n",
    "        else:\n",
    "            print(\"Invalid deposit\")\n",
    "        print(\"Deposit of {}\".format(amount))\n",
    "        self.show_balance()\n",
    "        self.transaction_list.append((Account._current_time(), amount))\n",
    "        #You could replace Account with self, but python will first attempt to find the method\n",
    "        # and then the isntance namespace when it fails then checks da class namespace \n",
    "        \n",
    "    def withdraw(self, amount):\n",
    "        if 0 < amount <= self.balance:\n",
    "            self.balance -= amount\n",
    "            self.transaction_list.append((Account._current_time(), -amount))\n",
    "        else:\n",
    "            print(\"Amount must be between zero and {}\".format(self.balance))\n",
    "            \n",
    "        print(\"Withdraw of {}\".format(amount))\n",
    "        self.show_balance()\n",
    "        \n",
    "    def show_balance(self):\n",
    "        print(\"Balance is {}\".format(self.balance))\n",
    "        \n",
    "    def show_transactions(self):\n",
    "        for date, amount in self.transaction_list:\n",
    "            if amount > 0:\n",
    "                tran_type = 'deposited'\n",
    "            else:\n",
    "                tran_type = 'withdrawn'\n",
    "                amount *= -1\n",
    "            print(\"{:6} {} on {} (local time was {})\".format(amount, tran_type, date, date.astimezone()))"
   ]
  },
  {
   "cell_type": "code",
   "execution_count": 32,
   "metadata": {},
   "outputs": [
    {
     "name": "stdout",
     "output_type": "stream",
     "text": [
      "Account created for Qwerty Iop\n",
      "Balance is 10\n",
      "Deposit of 1000\n",
      "Balance is 1010\n",
      "Balance is 1010\n",
      "Withdraw of 222\n",
      "Balance is 788\n",
      "Balance is 788\n"
     ]
    }
   ],
   "source": [
    "if __name__ == '__main__':\n",
    "    qwerty = Account(\"Qwerty Iop\", 10)\n",
    "    qwerty.show_balance()\n",
    "    \n",
    "    qwerty.deposit(1000)\n",
    "    qwerty.show_balance() # You could do this -bad practice-\n",
    "    qwerty.withdraw(222)\n",
    "    qwerty.show_balance()"
   ]
  },
  {
   "cell_type": "code",
   "execution_count": 33,
   "metadata": {},
   "outputs": [
    {
     "name": "stdout",
     "output_type": "stream",
     "text": [
      "Amount must be between zero and 788\n",
      "Withdraw of 1111\n",
      "Balance is 788\n",
      "Invalid deposit\n",
      "Deposit of -10\n",
      "Balance is 788\n"
     ]
    },
    {
     "data": {
      "text/plain": [
       "[(datetime.datetime(2019, 1, 9, 0, 23, 17, 910149, tzinfo=<UTC>), 1000),\n",
       " (datetime.datetime(2019, 1, 9, 0, 23, 17, 910149, tzinfo=<UTC>), -222),\n",
       " (datetime.datetime(2019, 1, 9, 0, 23, 26, 149776, tzinfo=<UTC>), -10)]"
      ]
     },
     "execution_count": 33,
     "metadata": {},
     "output_type": "execute_result"
    }
   ],
   "source": [
    "qwerty.withdraw(1111)\n",
    "qwerty.deposit(-10)\n",
    "qwerty.transaction_list\n"
   ]
  },
  {
   "cell_type": "code",
   "execution_count": 34,
   "metadata": {},
   "outputs": [
    {
     "name": "stdout",
     "output_type": "stream",
     "text": [
      "  1000 deposited on 2019-01-09 00:23:17.910149+00:00 (local time was 2019-01-08 22:23:17.910149-02:00)\n",
      "   222 withdrawn on 2019-01-09 00:23:17.910149+00:00 (local time was 2019-01-08 22:23:17.910149-02:00)\n",
      "    10 withdrawn on 2019-01-09 00:23:26.149776+00:00 (local time was 2019-01-08 22:23:26.149776-02:00)\n"
     ]
    }
   ],
   "source": [
    "qwerty.show_transactions()"
   ]
  },
  {
   "cell_type": "code",
   "execution_count": null,
   "metadata": {},
   "outputs": [],
   "source": []
  }
 ],
 "metadata": {
  "kernelspec": {
   "display_name": "Python 3",
   "language": "python",
   "name": "python3"
  },
  "language_info": {
   "codemirror_mode": {
    "name": "ipython",
    "version": 3
   },
   "file_extension": ".py",
   "mimetype": "text/x-python",
   "name": "python",
   "nbconvert_exporter": "python",
   "pygments_lexer": "ipython3",
   "version": "3.6.2"
  }
 },
 "nbformat": 4,
 "nbformat_minor": 2
}
