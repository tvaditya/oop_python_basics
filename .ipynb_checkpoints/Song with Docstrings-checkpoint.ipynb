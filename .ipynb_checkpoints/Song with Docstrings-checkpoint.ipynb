{
 "cells": [
  {
   "cell_type": "markdown",
   "metadata": {},
   "source": [
    "## Learning DocStrings"
   ]
  },
  {
   "cell_type": "code",
   "execution_count": 2,
   "metadata": {},
   "outputs": [],
   "source": [
    "class Song:\n",
    "    \"\"\" Class to represent songs\n",
    "    \n",
    "    Attributes:\n",
    "        title (str): The title of the song\n",
    "        artist (Artist): An artist object representing the songs creator\n",
    "        duration (int): The duration of the song in secs.\n",
    "    \"\"\"\n",
    "    \n",
    "    def __init__(self, title, artist, duration=0):\n",
    "        \"\"\" Song init method\n",
    "        \n",
    "        Args:\n",
    "            title (str): Initializes the title attr\n",
    "            artist (str): Artist object respresenting the song creator\n",
    "            duration (int): Lenght of the song in secs. Default set to 0\n",
    "        \"\"\"\n",
    "        self.title = title\n",
    "        self.artist = artist\n",
    "        self.duration = duration\n",
    "        "
   ]
  },
  {
   "cell_type": "code",
   "execution_count": null,
   "metadata": {},
   "outputs": [],
   "source": []
  }
 ],
 "metadata": {
  "kernelspec": {
   "display_name": "Python 3",
   "language": "python",
   "name": "python3"
  },
  "language_info": {
   "codemirror_mode": {
    "name": "ipython",
    "version": 3
   },
   "file_extension": ".py",
   "mimetype": "text/x-python",
   "name": "python",
   "nbconvert_exporter": "python",
   "pygments_lexer": "ipython3",
   "version": "3.6.2"
  }
 },
 "nbformat": 4,
 "nbformat_minor": 2
}
