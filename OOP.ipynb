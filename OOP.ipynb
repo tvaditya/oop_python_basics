{
 "cells": [
  {
   "cell_type": "markdown",
   "metadata": {},
   "source": [
    "##  The basics of classes and methods"
   ]
  },
  {
   "cell_type": "code",
   "execution_count": 20,
   "metadata": {},
   "outputs": [
    {
     "name": "stdout",
     "output_type": "stream",
     "text": [
      "Requirement already satisfied: pytz in c:\\users\\aditya\\miniconda3\\envs\\py36\\lib\\site-packages (2018.5)\n"
     ]
    }
   ],
   "source": [
    "!pip install pytz"
   ]
  },
  {
   "cell_type": "code",
   "execution_count": 21,
   "metadata": {},
   "outputs": [],
   "source": [
    "import datetime\n",
    "import pytz"
   ]
  },
  {
   "cell_type": "code",
   "execution_count": 5,
   "metadata": {},
   "outputs": [
    {
     "name": "stdout",
     "output_type": "stream",
     "text": [
      "Models: Kenwood= 12.12, Hamilton= 12.99\n"
     ]
    }
   ],
   "source": [
    "class Kettle(object):\n",
    "    \n",
    "    power_source = 'electricity'\n",
    "    def __init__(self, make, price):\n",
    "        self.make = make\n",
    "        self.price = price\n",
    "        self.on = False\n",
    "        \n",
    "    def switch_on(self):\n",
    "        self.on = True\n",
    "        \n",
    "        \n",
    "kenwood = Kettle(\"Kenwood\", 8.99)\n",
    "hamilton = Kettle(\"Hamilton\", 12.99)\n",
    "kenwood.price = 12.12\n",
    "\n",
    "print(\"Models: {}= {}, {}= {}\".format(kenwood.make, kenwood.price, hamilton.make, hamilton.price))"
   ]
  },
  {
   "cell_type": "code",
   "execution_count": 2,
   "metadata": {},
   "outputs": [
    {
     "name": "stdout",
     "output_type": "stream",
     "text": [
      "Models: Kenwood = 12.12, Hamilton = 12.99\n"
     ]
    }
   ],
   "source": [
    "print(\"Models: {0.make} = {0.price}, {1.make} = {1.price}\".format(kenwood, hamilton))"
   ]
  },
  {
   "cell_type": "code",
   "execution_count": 3,
   "metadata": {},
   "outputs": [
    {
     "name": "stdout",
     "output_type": "stream",
     "text": [
      "False\n",
      "True\n"
     ]
    }
   ],
   "source": [
    "print(hamilton.on)\n",
    "hamilton.switch_on()\n",
    "print(hamilton.on)"
   ]
  },
  {
   "cell_type": "code",
   "execution_count": 4,
   "metadata": {},
   "outputs": [
    {
     "name": "stdout",
     "output_type": "stream",
     "text": [
      "True\n"
     ]
    }
   ],
   "source": [
    "Kettle.switch_on(kenwood)\n",
    "print(kenwood.on)"
   ]
  },
  {
   "cell_type": "markdown",
   "metadata": {},
   "source": [
    "### Class attributes"
   ]
  },
  {
   "cell_type": "code",
   "execution_count": 6,
   "metadata": {},
   "outputs": [
    {
     "name": "stdout",
     "output_type": "stream",
     "text": [
      "electricity\n",
      "electricity\n"
     ]
    }
   ],
   "source": [
    "print(kenwood.power_source)\n",
    "print(Kettle.power_source)"
   ]
  },
  {
   "cell_type": "code",
   "execution_count": 7,
   "metadata": {},
   "outputs": [
    {
     "name": "stdout",
     "output_type": "stream",
     "text": [
      "{'make': 'Kenwood', 'price': 12.12, 'on': False}\n",
      "{'make': 'Hamilton', 'price': 12.99, 'on': False}\n",
      "{'__module__': '__main__', 'power_source': 'electricity', '__init__': <function Kettle.__init__ at 0x000001F758D38048>, 'switch_on': <function Kettle.switch_on at 0x000001F758D382F0>, '__dict__': <attribute '__dict__' of 'Kettle' objects>, '__weakref__': <attribute '__weakref__' of 'Kettle' objects>, '__doc__': None}\n"
     ]
    }
   ],
   "source": [
    "print(kenwood.__dict__)\n",
    "print(hamilton.__dict__)\n",
    "print(Kettle.__dict__)"
   ]
  },
  {
   "cell_type": "code",
   "execution_count": 9,
   "metadata": {},
   "outputs": [
    {
     "name": "stdout",
     "output_type": "stream",
     "text": [
      "atomic\n",
      "electricity\n",
      "electricity\n"
     ]
    }
   ],
   "source": [
    "#Switch just kenwood to atomic power\n",
    "kenwood.power_source = \"atomic\"\n",
    "print(kenwood.power_source)\n",
    "print(hamilton.power_source)\n",
    "print(Kettle.power_source)"
   ]
  },
  {
   "cell_type": "code",
   "execution_count": 10,
   "metadata": {},
   "outputs": [
    {
     "name": "stdout",
     "output_type": "stream",
     "text": [
      "atomic\n",
      "atomic\n",
      "atomic\n"
     ]
    }
   ],
   "source": [
    "#Switch all kettle to atomic power\n",
    "Kettle.power_source = \"atomic\"\n",
    "print(kenwood.power_source)\n",
    "print(hamilton.power_source)\n",
    "print(Kettle.power_source)"
   ]
  },
  {
   "cell_type": "markdown",
   "metadata": {},
   "source": [
    "### Methods"
   ]
  },
  {
   "cell_type": "code",
   "execution_count": 47,
   "metadata": {},
   "outputs": [],
   "source": [
    "class Account:\n",
    "    \"\"\" Classical bank account \"\"\"\n",
    "    #static methods\n",
    "    \n",
    "    @staticmethod\n",
    "    def _current_time():\n",
    "        utc_time = datetime.datetime.utcnow()\n",
    "        return pytz.utc.localize(utc_time)\n",
    "        #we don't need to use the self here this is a static method - annotation added\n",
    "        \n",
    "    def __init__(self, name, balance):\n",
    "        self._name = name\n",
    "        self._balance = balance\n",
    "        self._transaction_list = [(Account._current_time(), balance)]\n",
    "        print(\"Account created for {}\".format(self._name))\n",
    "        self.show_balance()\n",
    "        \n",
    "    def deposit(self, amount):\n",
    "        if amount > 0:\n",
    "            self._balance += amount\n",
    "        else:\n",
    "            print(\"Invalid deposit\")\n",
    "        print(\"Deposit of {}\".format(amount))\n",
    "        self.show_balance()\n",
    "        self._transaction_list.append((Account._current_time(), amount))\n",
    "        #You could replace Account with self, but python will first attempt to find the method\n",
    "        # and then the isntance namespace when it fails then checks da class namespace \n",
    "        \n",
    "    def withdraw(self, amount):\n",
    "        if 0 < amount <= self._balance:\n",
    "            self._balance -= amount\n",
    "            self._transaction_list.append((Account._current_time(), -amount))\n",
    "        else:\n",
    "            print(\"Amount must be between zero and {}\".format(self._balance))\n",
    "            \n",
    "        print(\"Withdraw of {}\".format(amount))\n",
    "        self.show_balance()\n",
    "        \n",
    "    def show_balance(self):\n",
    "        print(\"Balance is {}\".format(self._balance))\n",
    "        \n",
    "    def show_transactions(self):\n",
    "        for date, amount in self._transaction_list:\n",
    "            if amount > 0:\n",
    "                tran_type = 'deposited'\n",
    "            else:\n",
    "                tran_type = 'withdrawn'\n",
    "                amount *= -1\n",
    "            print(\"{:6} {} on {} (local time was {})\".format(amount, tran_type, date, date.astimezone()))"
   ]
  },
  {
   "cell_type": "code",
   "execution_count": 53,
   "metadata": {},
   "outputs": [
    {
     "name": "stdout",
     "output_type": "stream",
     "text": [
      "Account created for Qwerty Iop\n",
      "Balance is 10\n",
      "Balance is 10\n",
      "Deposit of 1000\n",
      "Balance is 1010\n",
      "Withdraw of 222\n",
      "Balance is 788\n",
      "Amount must be between zero and 788\n",
      "Withdraw of 1222\n",
      "Balance is 788\n",
      "    10 deposited on 2019-01-09 01:58:53.229469+00:00 (local time was 2019-01-08 23:58:53.229469-02:00)\n",
      "  1000 deposited on 2019-01-09 01:58:53.229469+00:00 (local time was 2019-01-08 23:58:53.229469-02:00)\n",
      "   222 withdrawn on 2019-01-09 01:58:53.229469+00:00 (local time was 2019-01-08 23:58:53.229469-02:00)\n",
      "Account created for Asdef Juki\n",
      "Balance is 888\n",
      "Deposit of 222\n",
      "Balance is 1110\n",
      "Withdraw of 321\n",
      "Balance is 789\n",
      "   888 deposited on 2019-01-09 01:58:53.230460+00:00 (local time was 2019-01-08 23:58:53.230460-02:00)\n",
      "   222 deposited on 2019-01-09 01:58:53.230460+00:00 (local time was 2019-01-08 23:58:53.230460-02:00)\n",
      "   321 withdrawn on 2019-01-09 01:58:53.230460+00:00 (local time was 2019-01-08 23:58:53.230460-02:00)\n"
     ]
    }
   ],
   "source": [
    "if __name__ == '__main__':\n",
    "    qwerty = Account(\"Qwerty Iop\", 10)\n",
    "    qwerty.show_balance()\n",
    "    qwerty.deposit(1000)\n",
    "    #qwerty.show_balance() # You could do this -bad practice-\n",
    "    qwerty.withdraw(222)\n",
    "   # qwerty.show_balance()\n",
    "    qwerty.withdraw(1222)\n",
    "    qwerty.show_transactions()\n",
    "    \n",
    "    asdef = Account(\"Asdef Juki\", 888)\n",
    "    asdef._balance = 200\n",
    "    asdef.deposit(222)\n",
    "    asdef.withdraw(321)\n",
    "    asdef.show_transactions()\n",
    "    \n",
    "    "
   ]
  },
  {
   "cell_type": "code",
   "execution_count": 50,
   "metadata": {},
   "outputs": [
    {
     "name": "stdout",
     "output_type": "stream",
     "text": [
      "Amount must be between zero and 788\n",
      "Withdraw of 1111\n",
      "Balance is 788\n",
      "Invalid deposit\n",
      "Deposit of -10\n",
      "Balance is 788\n"
     ]
    },
    {
     "data": {
      "text/plain": [
       "[(datetime.datetime(2019, 1, 9, 1, 52, 40, 33194, tzinfo=<UTC>), 10),\n",
       " (datetime.datetime(2019, 1, 9, 1, 52, 40, 33194, tzinfo=<UTC>), 1000),\n",
       " (datetime.datetime(2019, 1, 9, 1, 52, 40, 33194, tzinfo=<UTC>), -222),\n",
       " (datetime.datetime(2019, 1, 9, 1, 52, 43, 130915, tzinfo=<UTC>), -10),\n",
       " (datetime.datetime(2019, 1, 9, 1, 52, 51, 147493, tzinfo=<UTC>), -10)]"
      ]
     },
     "execution_count": 50,
     "metadata": {},
     "output_type": "execute_result"
    }
   ],
   "source": [
    "qwerty.withdraw(1111)\n",
    "qwerty.deposit(-10)\n",
    "qwerty._transaction_list\n"
   ]
  },
  {
   "cell_type": "code",
   "execution_count": 51,
   "metadata": {},
   "outputs": [
    {
     "name": "stdout",
     "output_type": "stream",
     "text": [
      "    10 deposited on 2019-01-09 01:52:40.033194+00:00 (local time was 2019-01-08 23:52:40.033194-02:00)\n",
      "  1000 deposited on 2019-01-09 01:52:40.033194+00:00 (local time was 2019-01-08 23:52:40.033194-02:00)\n",
      "   222 withdrawn on 2019-01-09 01:52:40.033194+00:00 (local time was 2019-01-08 23:52:40.033194-02:00)\n",
      "    10 withdrawn on 2019-01-09 01:52:43.130915+00:00 (local time was 2019-01-08 23:52:43.130915-02:00)\n",
      "    10 withdrawn on 2019-01-09 01:52:51.147493+00:00 (local time was 2019-01-08 23:52:51.147493-02:00)\n"
     ]
    }
   ],
   "source": [
    "qwerty.show_transactions()"
   ]
  },
  {
   "cell_type": "code",
   "execution_count": null,
   "metadata": {},
   "outputs": [],
   "source": []
  }
 ],
 "metadata": {
  "kernelspec": {
   "display_name": "Python 3",
   "language": "python",
   "name": "python3"
  },
  "language_info": {
   "codemirror_mode": {
    "name": "ipython",
    "version": 3
   },
   "file_extension": ".py",
   "mimetype": "text/x-python",
   "name": "python",
   "nbconvert_exporter": "python",
   "pygments_lexer": "ipython3",
   "version": "3.6.2"
  }
 },
 "nbformat": 4,
 "nbformat_minor": 2
}
